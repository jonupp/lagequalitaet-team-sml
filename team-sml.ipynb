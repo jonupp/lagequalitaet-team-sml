{
 "cells": [
  {
   "cell_type": "markdown",
   "id": "f6a8a5d0",
   "metadata": {},
   "source": [
    "# Team SML"
   ]
  },
  {
   "cell_type": "code",
   "execution_count": 29,
   "id": "a552b88f",
   "metadata": {},
   "outputs": [],
   "source": [
    "import pandas as pd\n",
    "import geopandas as gpd\n",
    "import geopy.distance\n",
    "import math\n",
    "from sklearn.compose import ColumnTransformer\n",
    "from sklearn.pipeline import Pipeline\n",
    "from sklearn.linear_model import LinearRegression\n"
   ]
  },
  {
   "cell_type": "code",
   "execution_count": 5,
   "id": "efb885ce",
   "metadata": {},
   "outputs": [
    {
     "name": "stdout",
     "output_type": "stream",
     "text": [
      "                                                   object_ref category  \\\n",
      "id                                                                       \n",
      "108761792                                         hgok2876852     rent   \n",
      "2147994348  44.53.3003.499622.e75b7976-c57b-11e9-9cb0-a4bf...     rent   \n",
      "3000166218                                    21301.01.420030     rent   \n",
      "3000251780                                        hgoe3023792     rent   \n",
      "3000402506                                      03159.01.0132     rent   \n",
      "\n",
      "                           date  flatType floor  rent  rent_add  rent_net  \\\n",
      "id                                                                          \n",
      "108761792   2021-10-12 19:06:18       NaN     4  1745     200.0    1545.0   \n",
      "2147994348  2021-10-12 19:08:41       NaN     3  1720       NaN       NaN   \n",
      "3000166218  2021-10-12 20:47:01       NaN     2  1150       NaN       NaN   \n",
      "3000251780  2021-10-13 07:27:31       NaN     2  1390       NaN       NaN   \n",
      "3000402506  2021-10-12 19:06:30       NaN     3  2130     240.0    1890.0   \n",
      "\n",
      "            rooms  area  ...      ES COMM_USE_D  EXP_LIM_D  EXP_LIM_N  \\\n",
      "id                       ...                                            \n",
      "108761792     NaN   100  ...     NaN        NaN        NaN        NaN   \n",
      "2147994348    NaN    72  ...  ES III     Wohnen  >IGW, <AW  >IGW, <AW   \n",
      "3000166218    NaN    87  ...  ES III     Wohnen        ≤PW        ≤PW   \n",
      "3000251780    NaN    80  ...  ES III     Wohnen        ≤PW        ≤PW   \n",
      "3000402506    NaN    97  ...  ES III     Wohnen  >PW, ≤IGW  >IGW, <AW   \n",
      "\n",
      "              EXP_LIM  noise_below quartier_nummer  quartier_kreis  \\\n",
      "id                                                                   \n",
      "108761792         NaN         True             204         Centrum   \n",
      "2147994348  >IGW, <AW        False             302           Osten   \n",
      "3000166218        ≤PW         True             303           Osten   \n",
      "3000251780        ≤PW         True             113          Westen   \n",
      "3000402506  >IGW, <AW        False             206         Centrum   \n",
      "\n",
      "             quartier_quartiergr    quartier_statistisc  \n",
      "id                                                       \n",
      "108761792             St.Georgen     St.Georgen-Bernegg  \n",
      "2147994348  Langgass-Heiligkreuz   Langgass-Heiligkreuz  \n",
      "3000166218              St.Fiden       St.Fiden-Krontal  \n",
      "3000251780                Lachen  Vonwil-Lachen-Schoren  \n",
      "3000402506            Innenstadt               Altstadt  \n",
      "\n",
      "[5 rows x 37 columns]\n"
     ]
    },
    {
     "ename": "TypeError",
     "evalue": "All intermediate steps should be transformers and implement fit and transform or be the string 'passthrough' '('selector', ColumnTransformer(transformers=[('selector', 'passthrough',\n                                 ['rent', 'lat', 'lng', 'LR_DAY', 'LR_NIGHT'])]))' (type <class 'tuple'>) doesn't",
     "output_type": "error",
     "traceback": [
      "\u001b[1;31m---------------------------------------------------------------------------\u001b[0m",
      "\u001b[1;31mTypeError\u001b[0m                                 Traceback (most recent call last)",
      "\u001b[1;32m~\\AppData\\Local\\Temp/ipykernel_8724/384744524.py\u001b[0m in \u001b[0;36m<module>\u001b[1;34m\u001b[0m\n\u001b[0;32m      5\u001b[0m \u001b[0mmycols\u001b[0m \u001b[1;33m=\u001b[0m \u001b[1;33m[\u001b[0m\u001b[1;34m'rent'\u001b[0m\u001b[1;33m,\u001b[0m\u001b[1;34m'lat'\u001b[0m\u001b[1;33m,\u001b[0m \u001b[1;34m'lng'\u001b[0m\u001b[1;33m,\u001b[0m \u001b[1;34m'LR_DAY'\u001b[0m\u001b[1;33m,\u001b[0m \u001b[1;34m'LR_NIGHT'\u001b[0m\u001b[1;33m]\u001b[0m\u001b[1;33m\u001b[0m\u001b[1;33m\u001b[0m\u001b[0m\n\u001b[0;32m      6\u001b[0m \u001b[1;33m\u001b[0m\u001b[0m\n\u001b[1;32m----> 7\u001b[1;33m pipe = Pipeline([\n\u001b[0m\u001b[0;32m      8\u001b[0m ('selector', (\"selector\", ColumnTransformer([\n\u001b[0;32m      9\u001b[0m         \u001b[1;33m(\u001b[0m\u001b[1;34m\"selector\"\u001b[0m\u001b[1;33m,\u001b[0m \u001b[1;34m\"passthrough\"\u001b[0m\u001b[1;33m,\u001b[0m \u001b[0mmycols\u001b[0m\u001b[1;33m)\u001b[0m\u001b[1;33m\u001b[0m\u001b[1;33m\u001b[0m\u001b[0m\n",
      "\u001b[1;32m~\\AppData\\Local\\Programs\\Python\\Python310\\lib\\site-packages\\sklearn\\pipeline.py\u001b[0m in \u001b[0;36m__init__\u001b[1;34m(self, steps, memory, verbose)\u001b[0m\n\u001b[0;32m    146\u001b[0m         \u001b[0mself\u001b[0m\u001b[1;33m.\u001b[0m\u001b[0mmemory\u001b[0m \u001b[1;33m=\u001b[0m \u001b[0mmemory\u001b[0m\u001b[1;33m\u001b[0m\u001b[1;33m\u001b[0m\u001b[0m\n\u001b[0;32m    147\u001b[0m         \u001b[0mself\u001b[0m\u001b[1;33m.\u001b[0m\u001b[0mverbose\u001b[0m \u001b[1;33m=\u001b[0m \u001b[0mverbose\u001b[0m\u001b[1;33m\u001b[0m\u001b[1;33m\u001b[0m\u001b[0m\n\u001b[1;32m--> 148\u001b[1;33m         \u001b[0mself\u001b[0m\u001b[1;33m.\u001b[0m\u001b[0m_validate_steps\u001b[0m\u001b[1;33m(\u001b[0m\u001b[1;33m)\u001b[0m\u001b[1;33m\u001b[0m\u001b[1;33m\u001b[0m\u001b[0m\n\u001b[0m\u001b[0;32m    149\u001b[0m \u001b[1;33m\u001b[0m\u001b[0m\n\u001b[0;32m    150\u001b[0m     \u001b[1;32mdef\u001b[0m \u001b[0mget_params\u001b[0m\u001b[1;33m(\u001b[0m\u001b[0mself\u001b[0m\u001b[1;33m,\u001b[0m \u001b[0mdeep\u001b[0m\u001b[1;33m=\u001b[0m\u001b[1;32mTrue\u001b[0m\u001b[1;33m)\u001b[0m\u001b[1;33m:\u001b[0m\u001b[1;33m\u001b[0m\u001b[1;33m\u001b[0m\u001b[0m\n",
      "\u001b[1;32m~\\AppData\\Local\\Programs\\Python\\Python310\\lib\\site-packages\\sklearn\\pipeline.py\u001b[0m in \u001b[0;36m_validate_steps\u001b[1;34m(self)\u001b[0m\n\u001b[0;32m    205\u001b[0m                 \u001b[0mt\u001b[0m\u001b[1;33m,\u001b[0m \u001b[1;34m\"transform\"\u001b[0m\u001b[1;33m\u001b[0m\u001b[1;33m\u001b[0m\u001b[0m\n\u001b[0;32m    206\u001b[0m             ):\n\u001b[1;32m--> 207\u001b[1;33m                 raise TypeError(\n\u001b[0m\u001b[0;32m    208\u001b[0m                     \u001b[1;34m\"All intermediate steps should be \"\u001b[0m\u001b[1;33m\u001b[0m\u001b[1;33m\u001b[0m\u001b[0m\n\u001b[0;32m    209\u001b[0m                     \u001b[1;34m\"transformers and implement fit and transform \"\u001b[0m\u001b[1;33m\u001b[0m\u001b[1;33m\u001b[0m\u001b[0m\n",
      "\u001b[1;31mTypeError\u001b[0m: All intermediate steps should be transformers and implement fit and transform or be the string 'passthrough' '('selector', ColumnTransformer(transformers=[('selector', 'passthrough',\n                                 ['rent', 'lat', 'lng', 'LR_DAY', 'LR_NIGHT'])]))' (type <class 'tuple'>) doesn't"
     ]
    }
   ],
   "source": [
    "\n",
    "\n",
    "url = 'https://raw.githubusercontent.com/cividi/st-gallen-urban-indicators/main/data/price-monitoring/price-monitoring-extended.csv'\n",
    "df = pd.read_csv(url, index_col=0)\n",
    "print(df.head(5))\n",
    "\n",
    "mycols = ['rent','lat', 'lng', 'LR_DAY', 'LR_NIGHT']\n",
    "\n",
    "pipe = Pipeline([\n",
    "('selector', (\"selector\", ColumnTransformer([\n",
    "        (\"selector\", \"passthrough\", mycols)\n",
    "    ], remainder=\"drop\"))),\n",
    "    ('regression', LinearRegression())\n",
    "])\n",
    "\n",
    "pipeline.fit(X=df.iloc[:, 0:5], y=df['rent'])"
   ]
  },
  {
   "cell_type": "code",
   "execution_count": null,
   "id": "48a5902a",
   "metadata": {},
   "outputs": [],
   "source": []
  },
  {
   "cell_type": "code",
   "execution_count": 92,
   "id": "d40198f1",
   "metadata": {},
   "outputs": [],
   "source": [
    "urlNew = 'https://raw.githubusercontent.com/cividi/st-gallen-urban-indicators/main/data/price-monitoring/price-monitoring-extended.csv'\n",
    "\n",
    "df_rentalobjects = pd.read_csv(urlNew, index_col=0)\n",
    "df_supermarkets = gpd.read_file('./mapdata/supermarkets.geojson')\n",
    "df_rentalobjects['supermarketsnearby'] = 0\n",
    "df_rentalobjects = df_rentalobjects.reset_index()\n",
    "df_supermarkets = df_supermarkets.reset_index()\n",
    "\n",
    "for index, row_rentalobject in df_rentalobjects.reset_index().iterrows():\n",
    "    count_supermarkets_nearby = 0\n",
    "    if not math.isnan(row_rentalobject['lng']) and not math.isnan(row_rentalobject['lat']):\n",
    "        coords_rentalobject = (row_rentalobject['lng'], row_rentalobject['lat'])\n",
    "        for index2, row_supermarket in df_supermarkets.iterrows():\n",
    "            geometry_supermarket = row_supermarket['geometry']\n",
    "            coords_supermarket = (geometry_supermarket.x, geometry_supermarket.y)\n",
    "            if not math.isnan(geometry_supermarket.x) and not math.isnan(geometry_supermarket.y):\n",
    "                if geopy.distance.distance(coords_rentalobject, coords_supermarket).m <= 500:\n",
    "                    count_supermarkets_nearby = count_supermarkets_nearby + 1\n",
    "    df_rentalobjects.at[index, 'supermarketsnearby'] = count_supermarkets_nearby\n",
    "df_rentalobjects.to_csv(\"./data/price-monitoring-calculated.csv\", index=False)\n",
    "\n",
    "        \n",
    "           \n",
    "    \n",
    "        \n",
    "        \n",
    "\n",
    "\n",
    "\n"
   ]
  },
  {
   "cell_type": "code",
   "execution_count": null,
   "id": "a58529a4",
   "metadata": {},
   "outputs": [],
   "source": []
  }
 ],
 "metadata": {
  "kernelspec": {
   "display_name": "Python 3 (ipykernel)",
   "language": "python",
   "name": "python3"
  },
  "language_info": {
   "codemirror_mode": {
    "name": "ipython",
    "version": 3
   },
   "file_extension": ".py",
   "mimetype": "text/x-python",
   "name": "python",
   "nbconvert_exporter": "python",
   "pygments_lexer": "ipython3",
   "version": "3.10.0"
  }
 },
 "nbformat": 4,
 "nbformat_minor": 5
}
