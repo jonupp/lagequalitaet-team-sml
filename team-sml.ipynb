{
 "cells": [
  {
   "cell_type": "markdown",
   "id": "f6a8a5d0",
   "metadata": {},
   "source": [
    "# Team SML"
   ]
  },
  {
   "cell_type": "code",
   "execution_count": null,
   "id": "a552b88f",
   "metadata": {},
   "outputs": [],
   "source": [
    "import pandas as pd"
   ]
  },
  {
   "cell_type": "code",
   "execution_count": 2,
   "id": "efb885ce",
   "metadata": {},
   "outputs": [
    {
     "name": "stdout",
     "output_type": "stream",
     "text": [
      "                                                   object_ref category  \\\n",
      "id                                                                       \n",
      "108761792                                         hgok2876852     rent   \n",
      "2147994348  44.53.3003.499622.e75b7976-c57b-11e9-9cb0-a4bf...     rent   \n",
      "3000166218                                    21301.01.420030     rent   \n",
      "3000251780                                        hgoe3023792     rent   \n",
      "3000402506                                      03159.01.0132     rent   \n",
      "\n",
      "                           date  flatType floor  rent  rent_add  rent_net  \\\n",
      "id                                                                          \n",
      "108761792   2021-10-12 19:06:18       NaN     4  1745     200.0    1545.0   \n",
      "2147994348  2021-10-12 19:08:41       NaN     3  1720       NaN       NaN   \n",
      "3000166218  2021-10-12 20:47:01       NaN     2  1150       NaN       NaN   \n",
      "3000251780  2021-10-13 07:27:31       NaN     2  1390       NaN       NaN   \n",
      "3000402506  2021-10-12 19:06:30       NaN     3  2130     240.0    1890.0   \n",
      "\n",
      "            rooms  area  ...      ES COMM_USE_D  EXP_LIM_D  EXP_LIM_N  \\\n",
      "id                       ...                                            \n",
      "108761792     NaN   100  ...     NaN        NaN        NaN        NaN   \n",
      "2147994348    NaN    72  ...  ES III     Wohnen  >IGW, <AW  >IGW, <AW   \n",
      "3000166218    NaN    87  ...  ES III     Wohnen        ≤PW        ≤PW   \n",
      "3000251780    NaN    80  ...  ES III     Wohnen        ≤PW        ≤PW   \n",
      "3000402506    NaN    97  ...  ES III     Wohnen  >PW, ≤IGW  >IGW, <AW   \n",
      "\n",
      "              EXP_LIM  noise_below quartier_nummer  quartier_kreis  \\\n",
      "id                                                                   \n",
      "108761792         NaN         True             204         Centrum   \n",
      "2147994348  >IGW, <AW        False             302           Osten   \n",
      "3000166218        ≤PW         True             303           Osten   \n",
      "3000251780        ≤PW         True             113          Westen   \n",
      "3000402506  >IGW, <AW        False             206         Centrum   \n",
      "\n",
      "             quartier_quartiergr    quartier_statistisc  \n",
      "id                                                       \n",
      "108761792             St.Georgen     St.Georgen-Bernegg  \n",
      "2147994348  Langgass-Heiligkreuz   Langgass-Heiligkreuz  \n",
      "3000166218              St.Fiden       St.Fiden-Krontal  \n",
      "3000251780                Lachen  Vonwil-Lachen-Schoren  \n",
      "3000402506            Innenstadt               Altstadt  \n",
      "\n",
      "[5 rows x 37 columns]\n"
     ]
    }
   ],
   "source": [
    "\n",
    "\n",
    "url = 'https://raw.githubusercontent.com/cividi/st-gallen-urban-indicators/main/data/price-monitoring/price-monitoring-extended.csv'\n",
    "df = pd.read_csv(url, index_col=0)\n",
    "print(df.head(5))"
   ]
  },
  {
   "cell_type": "code",
   "execution_count": null,
   "id": "48a5902a",
   "metadata": {},
   "outputs": [],
   "source": []
  },
  {
   "cell_type": "code",
   "execution_count": null,
   "id": "d40198f1",
   "metadata": {},
   "outputs": [],
   "source": []
  }
 ],
 "metadata": {
  "kernelspec": {
   "display_name": "Python 3 (ipykernel)",
   "language": "python",
   "name": "python3"
  },
  "language_info": {
   "codemirror_mode": {
    "name": "ipython",
    "version": 3
   },
   "file_extension": ".py",
   "mimetype": "text/x-python",
   "name": "python",
   "nbconvert_exporter": "python",
   "pygments_lexer": "ipython3",
   "version": "3.10.0"
  }
 },
 "nbformat": 4,
 "nbformat_minor": 5
}
